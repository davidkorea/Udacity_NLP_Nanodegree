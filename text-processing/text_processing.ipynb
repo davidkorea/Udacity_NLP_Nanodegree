{
 "cells": [
  {
   "cell_type": "markdown",
   "metadata": {},
   "source": [
    "# Text Processing\n",
    "\n",
    "## Capturing Text Data\n",
    "\n",
    "### Plain Text"
   ]
  },
  {
   "cell_type": "code",
   "execution_count": 1,
   "metadata": {},
   "outputs": [
    {
     "name": "stdout",
     "output_type": "stream",
     "text": [
      "Hieroglyphic writing dates from c. 3000 BC, and is composed of hundreds of symbols. A hieroglyph can represent a word, a sound, or a silent determinative; and the same symbol can serve different purposes in different contexts. Hieroglyphs were a formal script, used on stone monuments and in tombs, that could be as detailed as individual works of art.\n",
      "\n"
     ]
    }
   ],
   "source": [
    "import os\n",
    "\n",
    "# Read in a plain text file\n",
    "with open(os.path.join(\"data\", \"hieroglyph.txt\"), \"r\") as f:\n",
    "    text = f.read()\n",
    "    print(text)"
   ]
  },
  {
   "cell_type": "markdown",
   "metadata": {},
   "source": [
    "### Tabular Data"
   ]
  },
  {
   "cell_type": "code",
   "execution_count": 2,
   "metadata": {
    "scrolled": true
   },
   "outputs": [
    {
     "data": {
      "text/html": [
       "<div>\n",
       "<style>\n",
       "    .dataframe thead tr:only-child th {\n",
       "        text-align: right;\n",
       "    }\n",
       "\n",
       "    .dataframe thead th {\n",
       "        text-align: left;\n",
       "    }\n",
       "\n",
       "    .dataframe tbody tr th {\n",
       "        vertical-align: top;\n",
       "    }\n",
       "</style>\n",
       "<table border=\"1\" class=\"dataframe\">\n",
       "  <thead>\n",
       "    <tr style=\"text-align: right;\">\n",
       "      <th></th>\n",
       "      <th>publisher</th>\n",
       "      <th>title</th>\n",
       "    </tr>\n",
       "  </thead>\n",
       "  <tbody>\n",
       "    <tr>\n",
       "      <th>0</th>\n",
       "      <td>Livemint</td>\n",
       "      <td>fed's charles plosser sees high bar for change...</td>\n",
       "    </tr>\n",
       "    <tr>\n",
       "      <th>1</th>\n",
       "      <td>IFA Magazine</td>\n",
       "      <td>us open: stocks fall after fed official hints ...</td>\n",
       "    </tr>\n",
       "    <tr>\n",
       "      <th>2</th>\n",
       "      <td>IFA Magazine</td>\n",
       "      <td>fed risks falling 'behind the curve', charles ...</td>\n",
       "    </tr>\n",
       "    <tr>\n",
       "      <th>3</th>\n",
       "      <td>Moneynews</td>\n",
       "      <td>fed's plosser: nasty weather has curbed job gr...</td>\n",
       "    </tr>\n",
       "    <tr>\n",
       "      <th>4</th>\n",
       "      <td>NASDAQ</td>\n",
       "      <td>plosser: fed may have to accelerate tapering pace</td>\n",
       "    </tr>\n",
       "  </tbody>\n",
       "</table>\n",
       "</div>"
      ],
      "text/plain": [
       "      publisher                                              title\n",
       "0      Livemint  fed's charles plosser sees high bar for change...\n",
       "1  IFA Magazine  us open: stocks fall after fed official hints ...\n",
       "2  IFA Magazine  fed risks falling 'behind the curve', charles ...\n",
       "3     Moneynews  fed's plosser: nasty weather has curbed job gr...\n",
       "4        NASDAQ  plosser: fed may have to accelerate tapering pace"
      ]
     },
     "execution_count": 2,
     "metadata": {},
     "output_type": "execute_result"
    }
   ],
   "source": [
    "import pandas as pd\n",
    "\n",
    "# Extract text column from a dataframe\n",
    "df = pd.read_csv(os.path.join(\"data\", \"news.csv\"))\n",
    "df.head()[['publisher', 'title']]\n",
    "\n",
    "# Convert text column to lowercase\n",
    "df['title'] = df['title'].str.lower()\n",
    "df.head()[['publisher', 'title']]"
   ]
  },
  {
   "cell_type": "markdown",
   "metadata": {},
   "source": [
    "### Online Resource"
   ]
  },
  {
   "cell_type": "code",
   "execution_count": 3,
   "metadata": {
    "scrolled": true
   },
   "outputs": [
    {
     "name": "stdout",
     "output_type": "stream",
     "text": [
      "{\n",
      "    \"success\": {\n",
      "        \"total\": 1\n",
      "    },\n",
      "    \"contents\": {\n",
      "        \"quotes\": [\n",
      "            {\n",
      "                \"quote\": \"Keep a positive mind. Remember, a failed attempt doesn't make you a failure\\u2014giving up does.\",\n",
      "                \"length\": \"98\",\n",
      "                \"author\": \"Lorii Myers\",\n",
      "                \"tags\": [\n",
      "                    \"giving-up\",\n",
      "                    \"inspire\",\n",
      "                    \"positive-attitude\",\n",
      "                    \"self-improvement\"\n",
      "                ],\n",
      "                \"category\": \"inspire\",\n",
      "                \"date\": \"2018-08-16\",\n",
      "                \"permalink\": \"https://theysaidso.com/quote/bUu2mjT_nWdPCQyDq7IsugeF/lorii-myers-keep-a-positive-mind-remember-a-failed-attempt-doesnt-make-you-a-fai\",\n",
      "                \"title\": \"Inspiring Quote of the day\",\n",
      "                \"background\": \"https://theysaidso.com/img/bgs/man_on_the_mountain.jpg\",\n",
      "                \"id\": \"bUu2mjT_nWdPCQyDq7IsugeF\"\n",
      "            }\n",
      "        ],\n",
      "        \"copyright\": \"2017-19 theysaidso.com\"\n",
      "    }\n",
      "}\n",
      "Keep a positive mind. Remember, a failed attempt doesn't make you a failure—giving up does. \n",
      "-- Lorii Myers\n"
     ]
    }
   ],
   "source": [
    "import requests\n",
    "import json\n",
    "\n",
    "# Fetch data from a REST API\n",
    "r = requests.get(\n",
    "    \"https://quotes.rest/qod.json\")\n",
    "res = r.json()\n",
    "print(json.dumps(res, indent=4))\n",
    "\n",
    "# Extract relevant object and field\n",
    "q = res[\"contents\"][\"quotes\"][0]\n",
    "print(q[\"quote\"], \"\\n--\", q[\"author\"])"
   ]
  },
  {
   "cell_type": "markdown",
   "metadata": {},
   "source": [
    "## Cleaning"
   ]
  },
  {
   "cell_type": "code",
   "execution_count": 10,
   "metadata": {
    "scrolled": true
   },
   "outputs": [
    {
     "name": "stdout",
     "output_type": "stream",
     "text": [
      "<html op=\"news\"><head><meta name=\"referrer\" content=\"origin\"><meta name=\"viewport\" content=\"width=device-width, initial-scale=1.0\"><link rel=\"stylesheet\" type=\"text/css\" href=\"news.css?83FBjAm3rjlBwgHOeqZ9\">\n",
      "            <link rel=\"shortcut icon\" href=\"favicon.ico\">\n",
      "          <link rel=\"alternate\" type=\"application/rss+xml\" title=\"RSS\" href=\"rss\">\n",
      "        <title>Hacker News</title></head><body><center><table id=\"hnmain\" border=\"0\" cellpadding=\"0\" cellspacing=\"0\" width=\"85%\" bgcolor=\"#f6f6ef\">\n",
      "        <tr><td bgcolor=\"#ff6600\"><table border=\"0\" cellpadding=\"0\" cellspacing=\"0\" width=\"100%\" style=\"padding:2px\"><tr><td style=\"width:18px;padding-right:4px\"><a href=\"https://news.ycombinator.com\"><img src=\"y18.gif\" width=\"18\" height=\"18\" style=\"border:1px white solid;\"></a></td>\n",
      "                  <td style=\"line-height:12pt; height:10px;\"><span class=\"pagetop\"><b class=\"hnname\"><a href=\"news\">Hacker News</a></b>\n",
      "              <a href=\"newest\">new</a> | <a href=\"newcomments\">comments</a> | <a href=\"show\">show</a> | <a href=\"ask\">ask</a> | <a href=\"jobs\">jobs</a> | <a href=\"submit\">submit</a>            </span></td><td style=\"text-align:right;padding-right:4px;\"><span class=\"pagetop\">\n",
      "                              <a href=\"login?goto=news\">login</a>\n",
      "                          </span></td>\n",
      "              </tr></table></td></tr>\n",
      "<tr style=\"height:10px\"></tr><tr><td><table border=\"0\" cellpadding=\"0\" cellspacing=\"0\" class=\"itemlist\">\n",
      "              <tr class='athing' id='17772549'>\n",
      "      <td align=\"right\" valign=\"top\" class=\"title\"><span class=\"rank\">1.</span></td>      <td valign=\"top\" class=\"votelinks\"><center><a id='up_17772549' href='vote?id=17772549&amp;how=up&amp;goto=news'><div class='votearrow' title='upvote'></div></a></center></td><td class=\"title\"><a href=\"https://www.bhencke.com/pixelblaze/\" class=\"storylink\">Pixelblaze V2 – An advanced LED pattern development engine and controller</a><span class=\"sitebit comhead\"> (<a href=\"from?site=bhencke.com\"><span class=\"sitestr\">bhencke.com</span></a>)</span></td></tr><tr><td colspan=\"2\"></td><td class=\"subtext\">\n",
      "        <span class=\"score\" id=\"score_17772549\">25 points</span> by <a href=\"user?id=dfischer\" class=\"hnuser\">dfischer</a> <span class=\"age\"><a href=\"item?id=17772549\">1 hour ago</a></span> <span id=\"unv_17772549\"></span> | <a href=\"hide?id=17772549&amp;goto=news\">hide</a> | <a href=\"item?id=17772549\">4&nbsp;comments</a>              </td></tr>\n",
      "      <tr class=\"spacer\" style=\"height:5px\"></tr>\n",
      "                <tr class='athing' id='17770135'>\n",
      "      <td align=\"right\" valign=\"top\" class=\"title\"><span class=\"rank\">2.</span></td>      <td valign=\"top\" class=\"votelinks\"><center><a id='up_17770135' href='vote?id=17770135&amp;how=up&amp;goto=news'><div class='votearrow' title='upvote'></div></a></center></td><td class=\"title\"><a href=\"https://www.news.gatech.edu/2018/08/08/georgia-tech-creates-cybersecurity-masters-degree-online-less-10000\" class=\"storylink\">Georgia Tech Creates Cybersecurity Master’s Degree Online for Less Than $10k</a><span class=\"sitebit comhead\"> (<a href=\"from?site=gatech.edu\"><span class=\"sitestr\">gatech.edu</span></a>)</span></td></tr><tr><td colspan=\"2\"></td><td class=\"subtext\">\n",
      "        <span class=\"score\" id=\"score_17770135\">273 points</span> by <a href=\"user?id=electriclove\" class=\"hnuser\">electriclove</a> <span class=\"age\"><a href=\"item?id=17770135\">10 hours ago</a></span> <span id=\"unv_17770135\"></span> | <a href=\"hide?id=17770135&amp;goto=news\">hide</a> | <a href=\"item?id=17770135\">175&nbsp;comments</a>              </td></tr>\n",
      "      <tr class=\"spacer\" style=\"height:5px\"></tr>\n",
      "                <tr class='athing' id='17772211'>\n",
      "      <td align=\"right\" valign=\"top\" class=\"title\"><span class=\"rank\">3.</span></td>      <td valign=\"top\" class=\"votelinks\"><center><a id='up_17772211' href='vote?id=17772211&amp;how=up&amp;goto=news'><div class='votearrow' title='upvote'></div></a></center></td><td class=\"title\"><a href=\"http://physics.bu.edu/~pankajm/MLnotebooks.html\" class=\"storylink\">A high bias low-variance introduction to Machine Learning for physicists</a><span class=\"sitebit comhead\"> (<a href=\"from?site=bu.edu\"><span class=\"sitestr\">bu.edu</span></a>)</span></td></tr><tr><td colspan=\"2\"></td><td class=\"subtext\">\n",
      "        <span class=\"score\" id=\"score_17772211\">24 points</span> by <a href=\"user?id=yoquan\" class=\"hnuser\">yoquan</a> <span class=\"age\"><a href=\"item?id=17772211\">3 hours ago</a></span> <span id=\"unv_17772211\"></span> | <a href=\"hide?id=17772211&amp;goto=news\">hide</a> | <a href=\"item?id=17772211\">2&nbsp;comments</a>              </td></tr>\n",
      "      <tr class=\"spacer\" style=\"height:5px\"></tr>\n",
      "                <tr class='athing' id='17771302'>\n",
      "      <td align=\"right\" valign=\"top\" class=\"title\"><span class=\"rank\">4.</span></td>      <td valign=\"top\" class=\"votelinks\"><center><a id='up_17771302' href='vote?id=17771302&amp;how=up&amp;goto=news'><div class='votearrow' title='upvote'></div></a></center></td><td class=\"title\"><a href=\"https://github.com/Jeffail/benthos\" class=\"storylink\">A dull, resilient stream processor in Go</a><span class=\"sitebit comhead\"> (<a href=\"from?site=github.com\"><span class=\"sitestr\">github.com</span></a>)</span></td></tr><tr><td colspan=\"2\"></td><td class=\"subtext\">\n",
      "        <span class=\"score\" id=\"score_17771302\">108 points</span> by <a href=\"user?id=ngaut\" class=\"hnuser\">ngaut</a> <span class=\"age\"><a href=\"item?id=17771302\">6 hours ago</a></span> <span id=\"unv_17771302\"></span> | <a href=\"hide?id=17771302&amp;goto=news\">hide</a> | <a href=\"item?id=17771302\">13&nbsp;comments</a>              </td></tr>\n",
      "      <tr class=\"spacer\" style=\"height:5px\"></tr>\n",
      "                <tr class='athing' id='17771096'>\n",
      "      <td align=\"right\" valign=\"top\" class=\"title\"><span class=\"rank\">5.</span></td>      <td valign=\"top\" class=\"votelinks\"><center><a id='up_17771096' href='vote?id=17771096&amp;how=up&amp;goto=news'><div class='votearrow' title='upvote'></div></a></center></td><td class=\"title\"><a href=\"https://foreignpolicy.com/2018/08/15/botched-cia-communications-system-helped-blow-cover-chinese-agents-intelligence/\" class=\"storylink\">Botched CIA Communications System Helped Blow Cover of Chinese Agents</a><span class=\"sitebit comhead\"> (<a href=\"from?site=foreignpolicy.com\"><span class=\"sitestr\">foreignpolicy.com</span></a>)</span></td></tr><tr><td colspan=\"2\"></td><td class=\"subtext\">\n",
      "        <span class=\"score\" id=\"score_17771096\">89 points</span> by <a href=\"user?id=mkeeter\" class=\"hnuser\">mkeeter</a> <span class=\"age\"><a href=\"item?id=17771096\">7 hours ago</a></span> <span id=\"unv_17771096\"></span> | <a href=\"hide?id=17771096&amp;goto=news\">hide</a> | <a href=\"item?id=17771096\">54&nbsp;comments</a>              </td></tr>\n",
      "      <tr class=\"spacer\" style=\"height:5px\"></tr>\n",
      "                <tr class='athing' id='17772433'>\n",
      "      <td align=\"right\" valign=\"top\" class=\"title\"><span class=\"rank\">6.</span></td>      <td valign=\"top\" class=\"votelinks\"><center><a id='up_17772433' href='vote?id=17772433&amp;how=up&amp;goto=news'><div class='votearrow' title='upvote'></div></a></center></td><td class=\"title\"><a href=\"https://www.nytimes.com/2018/08/15/upshot/opioids-overdose-deaths-rising-fentanyl.html\" class=\"storylink\">Bleak New Estimates in Drug Epidemic: A Record 72,000 Overdose Deaths in 2017</a><span class=\"sitebit comhead\"> (<a href=\"from?site=nytimes.com\"><span class=\"sitestr\">nytimes.com</span></a>)</span></td></tr><tr><td colspan=\"2\"></td><td class=\"subtext\">\n",
      "        <span class=\"score\" id=\"score_17772433\">48 points</span> by <a href=\"user?id=Alex3917\" class=\"hnuser\">Alex3917</a> <span class=\"age\"><a href=\"item?id=17772433\">2 hours ago</a></span> <span id=\"unv_17772433\"></span> | <a href=\"hide?id=17772433&amp;goto=news\">hide</a> | <a href=\"item?id=17772433\">32&nbsp;comments</a>              </td></tr>\n",
      "      <tr class=\"spacer\" style=\"height:5px\"></tr>\n",
      "                <tr class='athing' id='17763921'>\n",
      "      <td align=\"right\" valign=\"top\" class=\"title\"><span class=\"rank\">7.</span></td>      <td valign=\"top\" class=\"votelinks\"><center><a id='up_17763921' href='vote?id=17763921&amp;how=up&amp;goto=news'><div class='votearrow' title='upvote'></div></a></center></td><td class=\"title\"><a href=\"https://gpfault.net/posts/shader-quine.txt.html\" class=\"storylink\">Dissecting a Shader Quine</a><span class=\"sitebit comhead\"> (<a href=\"from?site=gpfault.net\"><span class=\"sitestr\">gpfault.net</span></a>)</span></td></tr><tr><td colspan=\"2\"></td><td class=\"subtext\">\n",
      "        <span class=\"score\" id=\"score_17763921\">8 points</span> by <a href=\"user?id=nice_byte\" class=\"hnuser\">nice_byte</a> <span class=\"age\"><a href=\"item?id=17763921\">2 hours ago</a></span> <span id=\"unv_17763921\"></span> | <a href=\"hide?id=17763921&amp;goto=news\">hide</a> | <a href=\"item?id=17763921\">discuss</a>              </td></tr>\n",
      "      <tr class=\"spacer\" style=\"height:5px\"></tr>\n",
      "                <tr class='athing' id='17772603'>\n",
      "      <td align=\"right\" valign=\"top\" class=\"title\"><span class=\"rank\">8.</span></td>      <td valign=\"top\" class=\"votelinks\"><center><a id='up_17772603' href='vote?id=17772603&amp;how=up&amp;goto=news'><div class='votearrow' title='upvote'></div></a></center></td><td class=\"title\"><a href=\"https://github.com/r-spacex/SpaceX-API\" class=\"storylink\" rel=\"nofollow\">SpaceX REST API</a><span class=\"sitebit comhead\"> (<a href=\"from?site=github.com\"><span class=\"sitestr\">github.com</span></a>)</span></td></tr><tr><td colspan=\"2\"></td><td class=\"subtext\">\n",
      "        <span class=\"score\" id=\"score_17772603\">7 points</span> by <a href=\"user?id=sdoering\" class=\"hnuser\">sdoering</a> <span class=\"age\"><a href=\"item?id=17772603\">1 hour ago</a></span> <span id=\"unv_17772603\"></span> | <a href=\"hide?id=17772603&amp;goto=news\">hide</a> | <a href=\"item?id=17772603\">2&nbsp;comments</a>              </td></tr>\n",
      "      <tr class=\"spacer\" style=\"height:5px\"></tr>\n",
      "                <tr class='athing' id='17772529'>\n",
      "      <td align=\"right\" valign=\"top\" class=\"title\"><span class=\"rank\">9.</span></td>      <td valign=\"top\" class=\"votelinks\"><center><a id='up_17772529' href='vote?id=17772529&amp;how=up&amp;goto=news'><div class='votearrow' title='upvote'></div></a></center></td><td class=\"title\"><a href=\"https://www.electricitymap.org/\" class=\"storylink\">Electricity Map - Live CO2 emissions of electricity consumption</a><span class=\"sitebit comhead\"> (<a href=\"from?site=electricitymap.org\"><span class=\"sitestr\">electricitymap.org</span></a>)</span></td></tr><tr><td colspan=\"2\"></td><td class=\"subtext\">\n",
      "        <span class=\"score\" id=\"score_17772529\">36 points</span> by <a href=\"user?id=robin_reala\" class=\"hnuser\">robin_reala</a> <span class=\"age\"><a href=\"item?id=17772529\">1 hour ago</a></span> <span id=\"unv_17772529\"></span> | <a href=\"hide?id=17772529&amp;goto=news\">hide</a> | <a href=\"item?id=17772529\">13&nbsp;comments</a>              </td></tr>\n",
      "      <tr class=\"spacer\" style=\"height:5px\"></tr>\n",
      "                <tr class='athing' id='17769892'>\n",
      "      <td align=\"right\" valign=\"top\" class=\"title\"><span class=\"rank\">10.</span></td>      <td valign=\"top\" class=\"votelinks\"><center><a id='up_17769892' href='vote?id=17769892&amp;how=up&amp;goto=news'><div class='votearrow' title='upvote'></div></a></center></td><td class=\"title\"><a href=\"https://www.leoeditor.com/\" class=\"storylink\">Leo Editor</a><span class=\"sitebit comhead\"> (<a href=\"from?site=leoeditor.com\"><span class=\"sitestr\">leoeditor.com</span></a>)</span></td></tr><tr><td colspan=\"2\"></td><td class=\"subtext\">\n",
      "        <span class=\"score\" id=\"score_17769892\">190 points</span> by <a href=\"user?id=type0\" class=\"hnuser\">type0</a> <span class=\"age\"><a href=\"item?id=17769892\">11 hours ago</a></span> <span id=\"unv_17769892\"></span> | <a href=\"hide?id=17769892&amp;goto=news\">hide</a> | <a href=\"item?id=17769892\">80&nbsp;comments</a>              </td></tr>\n",
      "      <tr class=\"spacer\" style=\"height:5px\"></tr>\n",
      "                <tr class='athing' id='17772077'>\n",
      "      <td align=\"right\" valign=\"top\" class=\"title\"><span class=\"rank\">11.</span></td>      <td valign=\"top\" class=\"votelinks\"><center><a id='up_17772077' href='vote?id=17772077&amp;how=up&amp;goto=news'><div class='votearrow' title='upvote'></div></a></center></td><td class=\"title\"><a href=\"https://talks.godoc.org/github.com/mvdan/talks/2018/go1.11.slide#1\" class=\"storylink\">What else is in Go 1.11?</a><span class=\"sitebit comhead\"> (<a href=\"from?site=godoc.org\"><span class=\"sitestr\">godoc.org</span></a>)</span></td></tr><tr><td colspan=\"2\"></td><td class=\"subtext\">\n",
      "        <span class=\"score\" id=\"score_17772077\">84 points</span> by <a href=\"user?id=ngaut\" class=\"hnuser\">ngaut</a> <span class=\"age\"><a href=\"item?id=17772077\">3 hours ago</a></span> <span id=\"unv_17772077\"></span> | <a href=\"hide?id=17772077&amp;goto=news\">hide</a> | <a href=\"item?id=17772077\">26&nbsp;comments</a>              </td></tr>\n",
      "      <tr class=\"spacer\" style=\"height:5px\"></tr>\n",
      "                <tr class='athing' id='17765413'>\n",
      "      <td align=\"right\" valign=\"top\" class=\"title\"><span class=\"rank\">12.</span></td>      <td valign=\"top\" class=\"votelinks\"><center><a id='up_17765413' href='vote?id=17765413&amp;how=up&amp;goto=news'><div class='votearrow' title='upvote'></div></a></center></td><td class=\"title\"><a href=\"https://8thlight.com/blog/kyle-krull/2018/08/13/exploring-error-handling-patterns-in-go.html\" class=\"storylink\">Exploring Error Handling Patterns in Go</a><span class=\"sitebit comhead\"> (<a href=\"from?site=8thlight.com\"><span class=\"sitestr\">8thlight.com</span></a>)</span></td></tr><tr><td colspan=\"2\"></td><td class=\"subtext\">\n",
      "        <span class=\"score\" id=\"score_17765413\">61 points</span> by <a href=\"user?id=trptcolin\" class=\"hnuser\">trptcolin</a> <span class=\"age\"><a href=\"item?id=17765413\">8 hours ago</a></span> <span id=\"unv_17765413\"></span> | <a href=\"hide?id=17765413&amp;goto=news\">hide</a> | <a href=\"item?id=17765413\">29&nbsp;comments</a>              </td></tr>\n",
      "      <tr class=\"spacer\" style=\"height:5px\"></tr>\n",
      "                <tr class='athing' id='17770643'>\n",
      "      <td align=\"right\" valign=\"top\" class=\"title\"><span class=\"rank\">13.</span></td>      <td valign=\"top\" class=\"votelinks\"><center><a id='up_17770643' href='vote?id=17770643&amp;how=up&amp;goto=news'><div class='votearrow' title='upvote'></div></a></center></td><td class=\"title\"><a href=\"https://publicwww.com/\" class=\"storylink\">Search Engine for Web Page Source Code with 300M Sites Indexed</a><span class=\"sitebit comhead\"> (<a href=\"from?site=publicwww.com\"><span class=\"sitestr\">publicwww.com</span></a>)</span></td></tr><tr><td colspan=\"2\"></td><td class=\"subtext\">\n",
      "        <span class=\"score\" id=\"score_17770643\">30 points</span> by <a href=\"user?id=ArtWomb\" class=\"hnuser\">ArtWomb</a> <span class=\"age\"><a href=\"item?id=17770643\">4 hours ago</a></span> <span id=\"unv_17770643\"></span> | <a href=\"hide?id=17770643&amp;goto=news\">hide</a> | <a href=\"item?id=17770643\">9&nbsp;comments</a>              </td></tr>\n",
      "      <tr class=\"spacer\" style=\"height:5px\"></tr>\n",
      "                <tr class='athing' id='17771425'>\n",
      "      <td align=\"right\" valign=\"top\" class=\"title\"><span class=\"rank\">14.</span></td>      <td valign=\"top\" class=\"votelinks\"><center><a id='up_17771425' href='vote?id=17771425&amp;how=up&amp;goto=news'><div class='votearrow' title='upvote'></div></a></center></td><td class=\"title\"><a href=\"https://twitter.com/VitalikButerin/status/1029900695925706753\" class=\"storylink\">A tweet storm explaining the history and state of Ethereum's Casper research</a><span class=\"sitebit comhead\"> (<a href=\"from?site=twitter.com\"><span class=\"sitestr\">twitter.com</span></a>)</span></td></tr><tr><td colspan=\"2\"></td><td class=\"subtext\">\n",
      "        <span class=\"score\" id=\"score_17771425\">39 points</span> by <a href=\"user?id=vilhelm_s\" class=\"hnuser\">vilhelm_s</a> <span class=\"age\"><a href=\"item?id=17771425\">6 hours ago</a></span> <span id=\"unv_17771425\"></span> | <a href=\"hide?id=17771425&amp;goto=news\">hide</a> | <a href=\"item?id=17771425\">4&nbsp;comments</a>              </td></tr>\n",
      "      <tr class=\"spacer\" style=\"height:5px\"></tr>\n",
      "                <tr class='athing' id='17765152'>\n",
      "      <td align=\"right\" valign=\"top\" class=\"title\"><span class=\"rank\">15.</span></td>      <td valign=\"top\" class=\"votelinks\"><center><a id='up_17765152' href='vote?id=17765152&amp;how=up&amp;goto=news'><div class='votearrow' title='upvote'></div></a></center></td><td class=\"title\"><a href=\"https://cacm.acm.org/magazines/2015/12/194622-what-makes-paris-look-like-paris/fulltext\" class=\"storylink\">What makes Paris look like Paris? (2012)</a><span class=\"sitebit comhead\"> (<a href=\"from?site=acm.org\"><span class=\"sitestr\">acm.org</span></a>)</span></td></tr><tr><td colspan=\"2\"></td><td class=\"subtext\">\n",
      "        <span class=\"score\" id=\"score_17765152\">24 points</span> by <a href=\"user?id=mxschumacher\" class=\"hnuser\">mxschumacher</a> <span class=\"age\"><a href=\"item?id=17765152\">5 hours ago</a></span> <span id=\"unv_17765152\"></span> | <a href=\"hide?id=17765152&amp;goto=news\">hide</a> | <a href=\"item?id=17765152\">24&nbsp;comments</a>              </td></tr>\n",
      "      <tr class=\"spacer\" style=\"height:5px\"></tr>\n",
      "                <tr class='athing' id='17768641'>\n",
      "      <td align=\"right\" valign=\"top\" class=\"title\"><span class=\"rank\">16.</span></td>      <td valign=\"top\" class=\"votelinks\"><center><a id='up_17768641' href='vote?id=17768641&amp;how=up&amp;goto=news'><div class='votearrow' title='upvote'></div></a></center></td><td class=\"title\"><a href=\"https://blogs.msdn.microsoft.com/commandline/2018/08/02/windows-command-line-introducing-the-windows-pseudo-console-conpty/\" class=\"storylink\">Introducing the Windows Pseudo Console (ConPty)</a><span class=\"sitebit comhead\"> (<a href=\"from?site=microsoft.com\"><span class=\"sitestr\">microsoft.com</span></a>)</span></td></tr><tr><td colspan=\"2\"></td><td class=\"subtext\">\n",
      "        <span class=\"score\" id=\"score_17768641\">227 points</span> by <a href=\"user?id=mnkypete\" class=\"hnuser\">mnkypete</a> <span class=\"age\"><a href=\"item?id=17768641\">13 hours ago</a></span> <span id=\"unv_17768641\"></span> | <a href=\"hide?id=17768641&amp;goto=news\">hide</a> | <a href=\"item?id=17768641\">121&nbsp;comments</a>              </td></tr>\n",
      "      <tr class=\"spacer\" style=\"height:5px\"></tr>\n",
      "                <tr class='athing' id='17772613'>\n",
      "      <td align=\"right\" valign=\"top\" class=\"title\"><span class=\"rank\">17.</span></td>      <td></td><td class=\"title\"><a href=\"https://jobs.lever.co/remix/85754b42-d084-4457-b9a6-4555332c3ee4?lever-origin=applied&amp;lever-source%5B%5D=hackernews\" class=\"storylink\" rel=\"nofollow\">Remix is hiring Software Engineers to build better public transit and cities</a><span class=\"sitebit comhead\"> (<a href=\"from?site=lever.co\"><span class=\"sitestr\">lever.co</span></a>)</span></td></tr><tr><td colspan=\"2\"></td><td class=\"subtext\">\n",
      "        <span class=\"age\"><a href=\"item?id=17772613\">1 hour ago</a></span> | <a href=\"hide?id=17772613&amp;goto=news\">hide</a>      </td></tr>\n",
      "      <tr class=\"spacer\" style=\"height:5px\"></tr>\n",
      "                <tr class='athing' id='17770972'>\n",
      "      <td align=\"right\" valign=\"top\" class=\"title\"><span class=\"rank\">18.</span></td>      <td valign=\"top\" class=\"votelinks\"><center><a id='up_17770972' href='vote?id=17770972&amp;how=up&amp;goto=news'><div class='votearrow' title='upvote'></div></a></center></td><td class=\"title\"><a href=\"https://nikhilm.github.io/uvbook/\" class=\"storylink\">An introduction to libuv</a><span class=\"sitebit comhead\"> (<a href=\"from?site=nikhilm.github.io\"><span class=\"sitestr\">nikhilm.github.io</span></a>)</span></td></tr><tr><td colspan=\"2\"></td><td class=\"subtext\">\n",
      "        <span class=\"score\" id=\"score_17770972\">63 points</span> by <a href=\"user?id=eatonphil\" class=\"hnuser\">eatonphil</a> <span class=\"age\"><a href=\"item?id=17770972\">8 hours ago</a></span> <span id=\"unv_17770972\"></span> | <a href=\"hide?id=17770972&amp;goto=news\">hide</a> | <a href=\"item?id=17770972\">13&nbsp;comments</a>              </td></tr>\n",
      "      <tr class=\"spacer\" style=\"height:5px\"></tr>\n",
      "                <tr class='athing' id='17765198'>\n",
      "      <td align=\"right\" valign=\"top\" class=\"title\"><span class=\"rank\">19.</span></td>      <td valign=\"top\" class=\"votelinks\"><center><a id='up_17765198' href='vote?id=17765198&amp;how=up&amp;goto=news'><div class='votearrow' title='upvote'></div></a></center></td><td class=\"title\"><a href=\"http://vision.cs.utexas.edu/projects/pixelobjectness/\" class=\"storylink\">Pixel Objectness</a><span class=\"sitebit comhead\"> (<a href=\"from?site=utexas.edu\"><span class=\"sitestr\">utexas.edu</span></a>)</span></td></tr><tr><td colspan=\"2\"></td><td class=\"subtext\">\n",
      "        <span class=\"score\" id=\"score_17765198\">26 points</span> by <a href=\"user?id=lainon\" class=\"hnuser\">lainon</a> <span class=\"age\"><a href=\"item?id=17765198\">4 hours ago</a></span> <span id=\"unv_17765198\"></span> | <a href=\"hide?id=17765198&amp;goto=news\">hide</a> | <a href=\"item?id=17765198\">2&nbsp;comments</a>              </td></tr>\n",
      "      <tr class=\"spacer\" style=\"height:5px\"></tr>\n",
      "                <tr class='athing' id='17771720'>\n",
      "      <td align=\"right\" valign=\"top\" class=\"title\"><span class=\"rank\">20.</span></td>      <td valign=\"top\" class=\"votelinks\"><center><a id='up_17771720' href='vote?id=17771720&amp;how=up&amp;goto=news'><div class='votearrow' title='upvote'></div></a></center></td><td class=\"title\"><a href=\"https://www.boringcompany.com/dugout\" class=\"storylink\">Dugout Loop</a><span class=\"sitebit comhead\"> (<a href=\"from?site=boringcompany.com\"><span class=\"sitestr\">boringcompany.com</span></a>)</span></td></tr><tr><td colspan=\"2\"></td><td class=\"subtext\">\n",
      "        <span class=\"score\" id=\"score_17771720\">174 points</span> by <a href=\"user?id=ot\" class=\"hnuser\">ot</a> <span class=\"age\"><a href=\"item?id=17771720\">5 hours ago</a></span> <span id=\"unv_17771720\"></span> | <a href=\"hide?id=17771720&amp;goto=news\">hide</a> | <a href=\"item?id=17771720\">151&nbsp;comments</a>              </td></tr>\n",
      "      <tr class=\"spacer\" style=\"height:5px\"></tr>\n",
      "                <tr class='athing' id='17767925'>\n",
      "      <td align=\"right\" valign=\"top\" class=\"title\"><span class=\"rank\">21.</span></td>      <td valign=\"top\" class=\"votelinks\"><center><a id='up_17767925' href='vote?id=17767925&amp;how=up&amp;goto=news'><div class='votearrow' title='upvote'></div></a></center></td><td class=\"title\"><a href=\"http://www.righto.com/2018/08/inside-die-of-intels-8087-coprocessor.html\" class=\"storylink\">Inside the die of Intel's 8087 coprocessor chip, root of modern floating point</a><span class=\"sitebit comhead\"> (<a href=\"from?site=righto.com\"><span class=\"sitestr\">righto.com</span></a>)</span></td></tr><tr><td colspan=\"2\"></td><td class=\"subtext\">\n",
      "        <span class=\"score\" id=\"score_17767925\">200 points</span> by <a href=\"user?id=ingve\" class=\"hnuser\">ingve</a> <span class=\"age\"><a href=\"item?id=17767925\">15 hours ago</a></span> <span id=\"unv_17767925\"></span> | <a href=\"hide?id=17767925&amp;goto=news\">hide</a> | <a href=\"item?id=17767925\">61&nbsp;comments</a>              </td></tr>\n",
      "      <tr class=\"spacer\" style=\"height:5px\"></tr>\n",
      "                <tr class='athing' id='17765420'>\n",
      "      <td align=\"right\" valign=\"top\" class=\"title\"><span class=\"rank\">22.</span></td>      <td valign=\"top\" class=\"votelinks\"><center><a id='up_17765420' href='vote?id=17765420&amp;how=up&amp;goto=news'><div class='votearrow' title='upvote'></div></a></center></td><td class=\"title\"><a href=\"https://chrome.google.com/webstore/detail/fresh-fresh/ileahjmkefakkiimcocmnoppbnkpehfp\" class=\"storylink\">Show HN: A chrome extension that fades out old links on HN/Reddit/News sites</a><span class=\"sitebit comhead\"> (<a href=\"from?site=chrome.google.com\"><span class=\"sitestr\">chrome.google.com</span></a>)</span></td></tr><tr><td colspan=\"2\"></td><td class=\"subtext\">\n",
      "        <span class=\"score\" id=\"score_17765420\">12 points</span> by <a href=\"user?id=Veuxdo\" class=\"hnuser\">Veuxdo</a> <span class=\"age\"><a href=\"item?id=17765420\">3 hours ago</a></span> <span id=\"unv_17765420\"></span> | <a href=\"hide?id=17765420&amp;goto=news\">hide</a> | <a href=\"item?id=17765420\">7&nbsp;comments</a>              </td></tr>\n",
      "      <tr class=\"spacer\" style=\"height:5px\"></tr>\n",
      "                <tr class='athing' id='17764924'>\n",
      "      <td align=\"right\" valign=\"top\" class=\"title\"><span class=\"rank\">23.</span></td>      <td valign=\"top\" class=\"votelinks\"><center><a id='up_17764924' href='vote?id=17764924&amp;how=up&amp;goto=news'><div class='votearrow' title='upvote'></div></a></center></td><td class=\"title\"><a href=\"https://en.wikipedia.org/wiki/Fluorophore\" class=\"storylink\" rel=\"nofollow\">Fluorophore</a><span class=\"sitebit comhead\"> (<a href=\"from?site=wikipedia.org\"><span class=\"sitestr\">wikipedia.org</span></a>)</span></td></tr><tr><td colspan=\"2\"></td><td class=\"subtext\">\n",
      "        <span class=\"score\" id=\"score_17764924\">5 points</span> by <a href=\"user?id=based2\" class=\"hnuser\">based2</a> <span class=\"age\"><a href=\"item?id=17764924\">1 hour ago</a></span> <span id=\"unv_17764924\"></span> | <a href=\"hide?id=17764924&amp;goto=news\">hide</a> | <a href=\"item?id=17764924\">discuss</a>              </td></tr>\n",
      "      <tr class=\"spacer\" style=\"height:5px\"></tr>\n",
      "                <tr class='athing' id='17771761'>\n",
      "      <td align=\"right\" valign=\"top\" class=\"title\"><span class=\"rank\">24.</span></td>      <td valign=\"top\" class=\"votelinks\"><center><a id='up_17771761' href='vote?id=17771761&amp;how=up&amp;goto=news'><div class='votearrow' title='upvote'></div></a></center></td><td class=\"title\"><a href=\"https://www.bloomberg.com/news/articles/2018-08-16/amazon-is-said-to-be-in-running-to-acquire-landmark-movie-chain\" class=\"storylink\">Amazon in Running to Acquire Landmark Movie Chain</a><span class=\"sitebit comhead\"> (<a href=\"from?site=bloomberg.com\"><span class=\"sitestr\">bloomberg.com</span></a>)</span></td></tr><tr><td colspan=\"2\"></td><td class=\"subtext\">\n",
      "        <span class=\"score\" id=\"score_17771761\">63 points</span> by <a href=\"user?id=rchaudhary\" class=\"hnuser\">rchaudhary</a> <span class=\"age\"><a href=\"item?id=17771761\">4 hours ago</a></span> <span id=\"unv_17771761\"></span> | <a href=\"hide?id=17771761&amp;goto=news\">hide</a> | <a href=\"item?id=17771761\">67&nbsp;comments</a>              </td></tr>\n",
      "      <tr class=\"spacer\" style=\"height:5px\"></tr>\n",
      "                <tr class='athing' id='17771293'>\n",
      "      <td align=\"right\" valign=\"top\" class=\"title\"><span class=\"rank\">25.</span></td>      <td valign=\"top\" class=\"votelinks\"><center><a id='up_17771293' href='vote?id=17771293&amp;how=up&amp;goto=news'><div class='votearrow' title='upvote'></div></a></center></td><td class=\"title\"><a href=\"https://www.eff.org/deeplinks/2018/08/google-needs-come-clean-about-its-chinese-plans\" class=\"storylink\">Google Needs to Come Clean About Its Chinese Plans</a><span class=\"sitebit comhead\"> (<a href=\"from?site=eff.org\"><span class=\"sitestr\">eff.org</span></a>)</span></td></tr><tr><td colspan=\"2\"></td><td class=\"subtext\">\n",
      "        <span class=\"score\" id=\"score_17771293\">171 points</span> by <a href=\"user?id=panarky\" class=\"hnuser\">panarky</a> <span class=\"age\"><a href=\"item?id=17771293\">7 hours ago</a></span> <span id=\"unv_17771293\"></span> | <a href=\"hide?id=17771293&amp;goto=news\">hide</a> | <a href=\"item?id=17771293\">84&nbsp;comments</a>              </td></tr>\n",
      "      <tr class=\"spacer\" style=\"height:5px\"></tr>\n",
      "                <tr class='athing' id='17765683'>\n",
      "      <td align=\"right\" valign=\"top\" class=\"title\"><span class=\"rank\">26.</span></td>      <td valign=\"top\" class=\"votelinks\"><center><a id='up_17765683' href='vote?id=17765683&amp;how=up&amp;goto=news'><div class='votearrow' title='upvote'></div></a></center></td><td class=\"title\"><a href=\"https://www.linusakesson.net/programming/tty/\" class=\"storylink\">The TTY demystified (2008)</a><span class=\"sitebit comhead\"> (<a href=\"from?site=linusakesson.net\"><span class=\"sitestr\">linusakesson.net</span></a>)</span></td></tr><tr><td colspan=\"2\"></td><td class=\"subtext\">\n",
      "        <span class=\"score\" id=\"score_17765683\">54 points</span> by <a href=\"user?id=kjeetgill\" class=\"hnuser\">kjeetgill</a> <span class=\"age\"><a href=\"item?id=17765683\">10 hours ago</a></span> <span id=\"unv_17765683\"></span> | <a href=\"hide?id=17765683&amp;goto=news\">hide</a> | <a href=\"item?id=17765683\">6&nbsp;comments</a>              </td></tr>\n",
      "      <tr class=\"spacer\" style=\"height:5px\"></tr>\n",
      "                <tr class='athing' id='17768369'>\n",
      "      <td align=\"right\" valign=\"top\" class=\"title\"><span class=\"rank\">27.</span></td>      <td valign=\"top\" class=\"votelinks\"><center><a id='up_17768369' href='vote?id=17768369&amp;how=up&amp;goto=news'><div class='votearrow' title='upvote'></div></a></center></td><td class=\"title\"><a href=\"https://www.poppastring.com/blog/ReversingTheEffectsOfLongProgrammingSessions.aspx\" class=\"storylink\">Reversing the effects of long programming sessions</a><span class=\"sitebit comhead\"> (<a href=\"from?site=poppastring.com\"><span class=\"sitestr\">poppastring.com</span></a>)</span></td></tr><tr><td colspan=\"2\"></td><td class=\"subtext\">\n",
      "        <span class=\"score\" id=\"score_17768369\">143 points</span> by <a href=\"user?id=PretzelFisch\" class=\"hnuser\">PretzelFisch</a> <span class=\"age\"><a href=\"item?id=17768369\">14 hours ago</a></span> <span id=\"unv_17768369\"></span> | <a href=\"hide?id=17768369&amp;goto=news\">hide</a> | <a href=\"item?id=17768369\">112&nbsp;comments</a>              </td></tr>\n",
      "      <tr class=\"spacer\" style=\"height:5px\"></tr>\n",
      "                <tr class='athing' id='17772366'>\n",
      "      <td align=\"right\" valign=\"top\" class=\"title\"><span class=\"rank\">28.</span></td>      <td valign=\"top\" class=\"votelinks\"><center><a id='up_17772366' href='vote?id=17772366&amp;how=up&amp;goto=news'><div class='votearrow' title='upvote'></div></a></center></td><td class=\"title\"><a href=\"https://keithp.com/newlib-nano/\" class=\"storylink\" rel=\"nofollow\">Newlib-nano – Embedded C library for smaller systems</a><span class=\"sitebit comhead\"> (<a href=\"from?site=keithp.com\"><span class=\"sitestr\">keithp.com</span></a>)</span></td></tr><tr><td colspan=\"2\"></td><td class=\"subtext\">\n",
      "        <span class=\"score\" id=\"score_17772366\">11 points</span> by <a href=\"user?id=JoshTriplett\" class=\"hnuser\">JoshTriplett</a> <span class=\"age\"><a href=\"item?id=17772366\">2 hours ago</a></span> <span id=\"unv_17772366\"></span> | <a href=\"hide?id=17772366&amp;goto=news\">hide</a> | <a href=\"item?id=17772366\">5&nbsp;comments</a>              </td></tr>\n",
      "      <tr class=\"spacer\" style=\"height:5px\"></tr>\n",
      "                <tr class='athing' id='17764153'>\n",
      "      <td align=\"right\" valign=\"top\" class=\"title\"><span class=\"rank\">29.</span></td>      <td valign=\"top\" class=\"votelinks\"><center><a id='up_17764153' href='vote?id=17764153&amp;how=up&amp;goto=news'><div class='votearrow' title='upvote'></div></a></center></td><td class=\"title\"><a href=\"https://github.com/maxamel/BitGenGo\" class=\"storylink\">Show HN: Simple way to obtain pseudorandomness from CPU context switch in Go</a><span class=\"sitebit comhead\"> (<a href=\"from?site=github.com\"><span class=\"sitestr\">github.com</span></a>)</span></td></tr><tr><td colspan=\"2\"></td><td class=\"subtext\">\n",
      "        <span class=\"score\" id=\"score_17764153\">20 points</span> by <a href=\"user?id=maxamel\" class=\"hnuser\">maxamel</a> <span class=\"age\"><a href=\"item?id=17764153\">6 hours ago</a></span> <span id=\"unv_17764153\"></span> | <a href=\"hide?id=17764153&amp;goto=news\">hide</a> | <a href=\"item?id=17764153\">4&nbsp;comments</a>              </td></tr>\n",
      "      <tr class=\"spacer\" style=\"height:5px\"></tr>\n",
      "                <tr class='athing' id='17766358'>\n",
      "      <td align=\"right\" valign=\"top\" class=\"title\"><span class=\"rank\">30.</span></td>      <td valign=\"top\" class=\"votelinks\"><center><a id='up_17766358' href='vote?id=17766358&amp;how=up&amp;goto=news'><div class='votearrow' title='upvote'></div></a></center></td><td class=\"title\"><a href=\"http://setosa.io/ev/markov-chains/\" class=\"storylink\">Markov Chains Explained Visually (2014)</a><span class=\"sitebit comhead\"> (<a href=\"from?site=setosa.io\"><span class=\"sitestr\">setosa.io</span></a>)</span></td></tr><tr><td colspan=\"2\"></td><td class=\"subtext\">\n",
      "        <span class=\"score\" id=\"score_17766358\">642 points</span> by <a href=\"user?id=aogl\" class=\"hnuser\">aogl</a> <span class=\"age\"><a href=\"item?id=17766358\">18 hours ago</a></span> <span id=\"unv_17766358\"></span> | <a href=\"hide?id=17766358&amp;goto=news\">hide</a> | <a href=\"item?id=17766358\">64&nbsp;comments</a>              </td></tr>\n",
      "      <tr class=\"spacer\" style=\"height:5px\"></tr>\n",
      "            <tr class=\"morespace\" style=\"height:10px\"></tr><tr><td colspan=\"2\"></td><td class=\"title\"><a href=\"news?p=2\" class=\"morelink\" rel=\"nofollow\">More</a></td></tr>\n",
      "  </table>\n",
      "</td></tr>\n",
      "<tr><td><img src=\"s.gif\" height=\"10\" width=\"0\"><table width=\"100%\" cellspacing=\"0\" cellpadding=\"1\"><tr><td bgcolor=\"#ff6600\"></td></tr></table><br><center><span class=\"yclinks\"><a href=\"newsguidelines.html\">Guidelines</a>\n",
      "        | <a href=\"newsfaq.html\">FAQ</a>\n",
      "        | <a href=\"mailto:hn@ycombinator.com\">Support</a>\n",
      "        | <a href=\"https://github.com/HackerNews/API\">API</a>\n",
      "        | <a href=\"security.html\">Security</a>\n",
      "        | <a href=\"lists\">Lists</a>\n",
      "        | <a href=\"bookmarklet.html\" rel=\"nofollow\">Bookmarklet</a>\n",
      "        | <a href=\"http://www.ycombinator.com/legal/\">Legal</a>\n",
      "        | <a href=\"http://www.ycombinator.com/apply/\">Apply to YC</a>\n",
      "        | <a href=\"mailto:hn@ycombinator.com\">Contact</a></span><br><br><form method=\"get\" action=\"//hn.algolia.com/\">Search:\n",
      "          <input type=\"text\" name=\"q\" value=\"\" size=\"17\" autocorrect=\"off\" spellcheck=\"false\" autocapitalize=\"off\" autocomplete=\"false\"></form>\n",
      "            </center></td></tr>\n",
      "      </table></center></body><script type='text/javascript' src='hn.js?83FBjAm3rjlBwgHOeqZ9'></script>\n",
      "  </html>\n",
      "\n"
     ]
    }
   ],
   "source": [
    "import requests\n",
    "\n",
    "# Fetch a web page\n",
    "r = requests.get(\"https://news.ycombinator.com\")\n",
    "print(r.text)"
   ]
  },
  {
   "cell_type": "code",
   "execution_count": 11,
   "metadata": {},
   "outputs": [
    {
     "name": "stdout",
     "output_type": "stream",
     "text": [
      "\n",
      "            \n",
      "          \n",
      "        Hacker News\n",
      "        \n",
      "                  Hacker News\n",
      "              new | comments | show | ask | jobs | submit            \n",
      "                              login\n",
      "                          \n",
      "              \n",
      "\n",
      "              \n",
      "      1.      Pixelblaze V2 – An advanced LED pattern development engine and controller (bhencke.com)\n",
      "        25 points by dfischer 1 hour ago  | hide | 4&nbsp;comments              \n",
      "      \n",
      "                \n",
      "      2.      Georgia Tech Creates Cybersecurity Master’s Degree Online for Less Than $10k (gatech.edu)\n",
      "        273 points by electriclove 10 hours ago  | hide | 175&nbsp;comments              \n",
      "      \n",
      "                \n",
      "      3.      A high bias low-variance introduction to Machine Learning for physicists (bu.edu)\n",
      "        24 points by yoquan 3 hours ago  | hide | 2&nbsp;comments              \n",
      "      \n",
      "                \n",
      "      4.      A dull, resilient stream processor in Go (github.com)\n",
      "        108 points by ngaut 6 hours ago  | hide | 13&nbsp;comments              \n",
      "      \n",
      "                \n",
      "      5.      Botched CIA Communications System Helped Blow Cover of Chinese Agents (foreignpolicy.com)\n",
      "        89 points by mkeeter 7 hours ago  | hide | 54&nbsp;comments              \n",
      "      \n",
      "                \n",
      "      6.      Bleak New Estimates in Drug Epidemic: A Record 72,000 Overdose Deaths in 2017 (nytimes.com)\n",
      "        48 points by Alex3917 2 hours ago  | hide | 32&nbsp;comments              \n",
      "      \n",
      "                \n",
      "      7.      Dissecting a Shader Quine (gpfault.net)\n",
      "        8 points by nice_byte 2 hours ago  | hide | discuss              \n",
      "      \n",
      "                \n",
      "      8.      SpaceX REST API (github.com)\n",
      "        7 points by sdoering 1 hour ago  | hide | 2&nbsp;comments              \n",
      "      \n",
      "                \n",
      "      9.      Electricity Map - Live CO2 emissions of electricity consumption (electricitymap.org)\n",
      "        36 points by robin_reala 1 hour ago  | hide | 13&nbsp;comments              \n",
      "      \n",
      "                \n",
      "      10.      Leo Editor (leoeditor.com)\n",
      "        190 points by type0 11 hours ago  | hide | 80&nbsp;comments              \n",
      "      \n",
      "                \n",
      "      11.      What else is in Go 1.11? (godoc.org)\n",
      "        84 points by ngaut 3 hours ago  | hide | 26&nbsp;comments              \n",
      "      \n",
      "                \n",
      "      12.      Exploring Error Handling Patterns in Go (8thlight.com)\n",
      "        61 points by trptcolin 8 hours ago  | hide | 29&nbsp;comments              \n",
      "      \n",
      "                \n",
      "      13.      Search Engine for Web Page Source Code with 300M Sites Indexed (publicwww.com)\n",
      "        30 points by ArtWomb 4 hours ago  | hide | 9&nbsp;comments              \n",
      "      \n",
      "                \n",
      "      14.      A tweet storm explaining the history and state of Ethereum's Casper research (twitter.com)\n",
      "        39 points by vilhelm_s 6 hours ago  | hide | 4&nbsp;comments              \n",
      "      \n",
      "                \n",
      "      15.      What makes Paris look like Paris? (2012) (acm.org)\n",
      "        24 points by mxschumacher 5 hours ago  | hide | 24&nbsp;comments              \n",
      "      \n",
      "                \n",
      "      16.      Introducing the Windows Pseudo Console (ConPty) (microsoft.com)\n",
      "        227 points by mnkypete 13 hours ago  | hide | 121&nbsp;comments              \n",
      "      \n",
      "                \n",
      "      17.      Remix is hiring Software Engineers to build better public transit and cities (lever.co)\n",
      "        1 hour ago | hide      \n",
      "      \n",
      "                \n",
      "      18.      An introduction to libuv (nikhilm.github.io)\n",
      "        63 points by eatonphil 8 hours ago  | hide | 13&nbsp;comments              \n",
      "      \n",
      "                \n",
      "      19.      Pixel Objectness (utexas.edu)\n",
      "        26 points by lainon 4 hours ago  | hide | 2&nbsp;comments              \n",
      "      \n",
      "                \n",
      "      20.      Dugout Loop (boringcompany.com)\n",
      "        174 points by ot 5 hours ago  | hide | 151&nbsp;comments              \n",
      "      \n",
      "                \n",
      "      21.      Inside the die of Intel's 8087 coprocessor chip, root of modern floating point (righto.com)\n",
      "        200 points by ingve 15 hours ago  | hide | 61&nbsp;comments              \n",
      "      \n",
      "                \n",
      "      22.      Show HN: A chrome extension that fades out old links on HN/Reddit/News sites (chrome.google.com)\n",
      "        12 points by Veuxdo 3 hours ago  | hide | 7&nbsp;comments              \n",
      "      \n",
      "                \n",
      "      23.      Fluorophore (wikipedia.org)\n",
      "        5 points by based2 1 hour ago  | hide | discuss              \n",
      "      \n",
      "                \n",
      "      24.      Amazon in Running to Acquire Landmark Movie Chain (bloomberg.com)\n",
      "        63 points by rchaudhary 4 hours ago  | hide | 67&nbsp;comments              \n",
      "      \n",
      "                \n",
      "      25.      Google Needs to Come Clean About Its Chinese Plans (eff.org)\n",
      "        171 points by panarky 7 hours ago  | hide | 84&nbsp;comments              \n",
      "      \n",
      "                \n",
      "      26.      The TTY demystified (2008) (linusakesson.net)\n",
      "        54 points by kjeetgill 10 hours ago  | hide | 6&nbsp;comments              \n",
      "      \n",
      "                \n",
      "      27.      Reversing the effects of long programming sessions (poppastring.com)\n",
      "        143 points by PretzelFisch 14 hours ago  | hide | 112&nbsp;comments              \n",
      "      \n",
      "                \n",
      "      28.      Newlib-nano – Embedded C library for smaller systems (keithp.com)\n",
      "        11 points by JoshTriplett 2 hours ago  | hide | 5&nbsp;comments              \n",
      "      \n",
      "                \n",
      "      29.      Show HN: Simple way to obtain pseudorandomness from CPU context switch in Go (github.com)\n",
      "        20 points by maxamel 6 hours ago  | hide | 4&nbsp;comments              \n",
      "      \n",
      "                \n",
      "      30.      Markov Chains Explained Visually (2014) (setosa.io)\n",
      "        642 points by aogl 18 hours ago  | hide | 64&nbsp;comments              \n",
      "      \n",
      "            More\n",
      "  \n",
      "\n",
      "Guidelines\n",
      "        | FAQ\n",
      "        | Support\n",
      "        | API\n",
      "        | Security\n",
      "        | Lists\n",
      "        | Bookmarklet\n",
      "        | Legal\n",
      "        | Apply to YC\n",
      "        | ContactSearch:\n",
      "          \n",
      "            \n",
      "      \n",
      "  \n",
      "\n"
     ]
    }
   ],
   "source": [
    "import re\n",
    "\n",
    "# Remove HTML tags using RegEx\n",
    "pattern = re.compile(r'<.*?>')  # tags look like <...>\n",
    "print(pattern.sub('', r.text))  # replace them with blank"
   ]
  },
  {
   "cell_type": "code",
   "execution_count": 12,
   "metadata": {},
   "outputs": [
    {
     "name": "stdout",
     "output_type": "stream",
     "text": [
      "\n",
      "            \n",
      "          \n",
      "        Hacker News\n",
      "        \n",
      "                  Hacker News\n",
      "              new | comments | show | ask | jobs | submit            \n",
      "                              login\n",
      "                          \n",
      "              \n",
      "\n",
      "              \n",
      "      1.      Pixelblaze V2 – An advanced LED pattern development engine and controller (bhencke.com)\n",
      "        25 points by dfischer 1 hour ago  | hide | 4 comments              \n",
      "      \n",
      "                \n",
      "      2.      Georgia Tech Creates Cybersecurity Master’s Degree Online for Less Than $10k (gatech.edu)\n",
      "        273 points by electriclove 10 hours ago  | hide | 175 comments              \n",
      "      \n",
      "                \n",
      "      3.      A high bias low-variance introduction to Machine Learning for physicists (bu.edu)\n",
      "        24 points by yoquan 3 hours ago  | hide | 2 comments              \n",
      "      \n",
      "                \n",
      "      4.      A dull, resilient stream processor in Go (github.com)\n",
      "        108 points by ngaut 6 hours ago  | hide | 13 comments              \n",
      "      \n",
      "                \n",
      "      5.      Botched CIA Communications System Helped Blow Cover of Chinese Agents (foreignpolicy.com)\n",
      "        89 points by mkeeter 7 hours ago  | hide | 54 comments              \n",
      "      \n",
      "                \n",
      "      6.      Bleak New Estimates in Drug Epidemic: A Record 72,000 Overdose Deaths in 2017 (nytimes.com)\n",
      "        48 points by Alex3917 2 hours ago  | hide | 32 comments              \n",
      "      \n",
      "                \n",
      "      7.      Dissecting a Shader Quine (gpfault.net)\n",
      "        8 points by nice_byte 2 hours ago  | hide | discuss              \n",
      "      \n",
      "                \n",
      "      8.      SpaceX REST API (github.com)\n",
      "        7 points by sdoering 1 hour ago  | hide | 2 comments              \n",
      "      \n",
      "                \n",
      "      9.      Electricity Map - Live CO2 emissions of electricity consumption (electricitymap.org)\n",
      "        36 points by robin_reala 1 hour ago  | hide | 13 comments              \n",
      "      \n",
      "                \n",
      "      10.      Leo Editor (leoeditor.com)\n",
      "        190 points by type0 11 hours ago  | hide | 80 comments              \n",
      "      \n",
      "                \n",
      "      11.      What else is in Go 1.11? (godoc.org)\n",
      "        84 points by ngaut 3 hours ago  | hide | 26 comments              \n",
      "      \n",
      "                \n",
      "      12.      Exploring Error Handling Patterns in Go (8thlight.com)\n",
      "        61 points by trptcolin 8 hours ago  | hide | 29 comments              \n",
      "      \n",
      "                \n",
      "      13.      Search Engine for Web Page Source Code with 300M Sites Indexed (publicwww.com)\n",
      "        30 points by ArtWomb 4 hours ago  | hide | 9 comments              \n",
      "      \n",
      "                \n",
      "      14.      A tweet storm explaining the history and state of Ethereum's Casper research (twitter.com)\n",
      "        39 points by vilhelm_s 6 hours ago  | hide | 4 comments              \n",
      "      \n",
      "                \n",
      "      15.      What makes Paris look like Paris? (2012) (acm.org)\n",
      "        24 points by mxschumacher 5 hours ago  | hide | 24 comments              \n",
      "      \n",
      "                \n",
      "      16.      Introducing the Windows Pseudo Console (ConPty) (microsoft.com)\n",
      "        227 points by mnkypete 13 hours ago  | hide | 121 comments              \n",
      "      \n",
      "                \n",
      "      17.      Remix is hiring Software Engineers to build better public transit and cities (lever.co)\n",
      "        1 hour ago | hide      \n",
      "      \n",
      "                \n",
      "      18.      An introduction to libuv (nikhilm.github.io)\n",
      "        63 points by eatonphil 8 hours ago  | hide | 13 comments              \n",
      "      \n",
      "                \n",
      "      19.      Pixel Objectness (utexas.edu)\n",
      "        26 points by lainon 4 hours ago  | hide | 2 comments              \n",
      "      \n",
      "                \n",
      "      20.      Dugout Loop (boringcompany.com)\n",
      "        174 points by ot 5 hours ago  | hide | 151 comments              \n",
      "      \n",
      "                \n",
      "      21.      Inside the die of Intel's 8087 coprocessor chip, root of modern floating point (righto.com)\n",
      "        200 points by ingve 15 hours ago  | hide | 61 comments              \n",
      "      \n",
      "                \n",
      "      22.      Show HN: A chrome extension that fades out old links on HN/Reddit/News sites (chrome.google.com)\n",
      "        12 points by Veuxdo 3 hours ago  | hide | 7 comments              \n",
      "      \n",
      "                \n",
      "      23.      Fluorophore (wikipedia.org)\n",
      "        5 points by based2 1 hour ago  | hide | discuss              \n",
      "      \n",
      "                \n",
      "      24.      Amazon in Running to Acquire Landmark Movie Chain (bloomberg.com)\n",
      "        63 points by rchaudhary 4 hours ago  | hide | 67 comments              \n",
      "      \n",
      "                \n",
      "      25.      Google Needs to Come Clean About Its Chinese Plans (eff.org)\n",
      "        171 points by panarky 7 hours ago  | hide | 84 comments              \n",
      "      \n",
      "                \n",
      "      26.      The TTY demystified (2008) (linusakesson.net)\n",
      "        54 points by kjeetgill 10 hours ago  | hide | 6 comments              \n",
      "      \n",
      "                \n",
      "      27.      Reversing the effects of long programming sessions (poppastring.com)\n",
      "        143 points by PretzelFisch 14 hours ago  | hide | 112 comments              \n",
      "      \n",
      "                \n",
      "      28.      Newlib-nano – Embedded C library for smaller systems (keithp.com)\n",
      "        11 points by JoshTriplett 2 hours ago  | hide | 5 comments              \n",
      "      \n",
      "                \n",
      "      29.      Show HN: Simple way to obtain pseudorandomness from CPU context switch in Go (github.com)\n",
      "        20 points by maxamel 6 hours ago  | hide | 4 comments              \n",
      "      \n",
      "                \n",
      "      30.      Markov Chains Explained Visually (2014) (setosa.io)\n",
      "        642 points by aogl 18 hours ago  | hide | 64 comments              \n",
      "      \n",
      "            More\n",
      "  \n",
      "\n",
      "Guidelines\n",
      "        | FAQ\n",
      "        | Support\n",
      "        | API\n",
      "        | Security\n",
      "        | Lists\n",
      "        | Bookmarklet\n",
      "        | Legal\n",
      "        | Apply to YC\n",
      "        | ContactSearch:\n",
      "          \n",
      "            \n",
      "      \n",
      "  \n",
      "\n"
     ]
    }
   ],
   "source": [
    "from bs4 import BeautifulSoup\n",
    "\n",
    "# Remove HTML tags using Beautiful Soup library\n",
    "soup = BeautifulSoup(r.text, \"html5lib\")\n",
    "print(soup.get_text())"
   ]
  },
  {
   "cell_type": "code",
   "execution_count": 13,
   "metadata": {
    "scrolled": true
   },
   "outputs": [
    {
     "data": {
      "text/plain": [
       "<tr class=\"athing\" id=\"17772549\">\n",
       "      <td align=\"right\" class=\"title\" valign=\"top\"><span class=\"rank\">1.</span></td>      <td class=\"votelinks\" valign=\"top\"><center><a href=\"vote?id=17772549&amp;how=up&amp;goto=news\" id=\"up_17772549\"><div class=\"votearrow\" title=\"upvote\"></div></a></center></td><td class=\"title\"><a class=\"storylink\" href=\"https://www.bhencke.com/pixelblaze/\">Pixelblaze V2 – An advanced LED pattern development engine and controller</a><span class=\"sitebit comhead\"> (<a href=\"from?site=bhencke.com\"><span class=\"sitestr\">bhencke.com</span></a>)</span></td></tr>"
      ]
     },
     "execution_count": 13,
     "metadata": {},
     "output_type": "execute_result"
    }
   ],
   "source": [
    "# Find all articles\n",
    "summaries = soup.find_all(\"tr\", class_=\"athing\")\n",
    "summaries[0]"
   ]
  },
  {
   "cell_type": "code",
   "execution_count": 14,
   "metadata": {},
   "outputs": [
    {
     "data": {
      "text/plain": [
       "'Pixelblaze V2 – An advanced LED pattern development engine and controller'"
      ]
     },
     "execution_count": 14,
     "metadata": {},
     "output_type": "execute_result"
    }
   ],
   "source": [
    "# Extract title\n",
    "summaries[0].find(\"a\", class_=\"storylink\").get_text().strip()"
   ]
  },
  {
   "cell_type": "code",
   "execution_count": 15,
   "metadata": {},
   "outputs": [
    {
     "name": "stdout",
     "output_type": "stream",
     "text": [
      "30 Article summaries found. Sample:\n",
      "Pixelblaze V2 – An advanced LED pattern development engine and controller\n"
     ]
    }
   ],
   "source": [
    "# Find all articles, extract titles\n",
    "articles = []\n",
    "summaries = soup.find_all(\"tr\", class_=\"athing\")\n",
    "for summary in summaries:\n",
    "    title = summary.find(\"a\", class_=\"storylink\").get_text().strip()\n",
    "    articles.append((title))\n",
    "\n",
    "print(len(articles), \"Article summaries found. Sample:\")\n",
    "print(articles[0])"
   ]
  },
  {
   "cell_type": "markdown",
   "metadata": {
    "collapsed": true
   },
   "source": [
    "## Normalization"
   ]
  },
  {
   "cell_type": "markdown",
   "metadata": {},
   "source": [
    "### Case Normalization"
   ]
  },
  {
   "cell_type": "code",
   "execution_count": 22,
   "metadata": {},
   "outputs": [
    {
     "name": "stdout",
     "output_type": "stream",
     "text": [
      "The first time you see The Second Renaissance it may look boring. Look at it at least twice and definitely watch part 2. It will change your view of the matrix. Are the human people the ones who started the war ? Is AI a bad thing ?\n"
     ]
    }
   ],
   "source": [
    "# Sample text\n",
    "text = \"The first time you see The Second Renaissance it may look boring. Look at it at least twice and definitely watch part 2. It will change your view of the matrix. Are the human people the ones who started the war ? Is AI a bad thing ?\"\n",
    "print(text)"
   ]
  },
  {
   "cell_type": "code",
   "execution_count": 23,
   "metadata": {},
   "outputs": [
    {
     "name": "stdout",
     "output_type": "stream",
     "text": [
      "the first time you see the second renaissance it may look boring. look at it at least twice and definitely watch part 2. it will change your view of the matrix. are the human people the ones who started the war ? is ai a bad thing ?\n"
     ]
    }
   ],
   "source": [
    "# Convert to lowercase\n",
    "text = text.lower() \n",
    "print(text)"
   ]
  },
  {
   "cell_type": "markdown",
   "metadata": {},
   "source": [
    "### Punctuation Removal"
   ]
  },
  {
   "cell_type": "code",
   "execution_count": 24,
   "metadata": {},
   "outputs": [
    {
     "name": "stdout",
     "output_type": "stream",
     "text": [
      "the first time you see the second renaissance it may look boring  look at it at least twice and definitely watch part 2  it will change your view of the matrix  are the human people the ones who started the war   is ai a bad thing  \n"
     ]
    }
   ],
   "source": [
    "import re\n",
    "\n",
    "# Remove punctuation characters\n",
    "text = re.sub(r\"[^a-zA-Z0-9]\", \" \", text) \n",
    "print(text)"
   ]
  },
  {
   "cell_type": "markdown",
   "metadata": {},
   "source": [
    "## Tokenization"
   ]
  },
  {
   "cell_type": "code",
   "execution_count": 25,
   "metadata": {},
   "outputs": [
    {
     "name": "stdout",
     "output_type": "stream",
     "text": [
      "['the', 'first', 'time', 'you', 'see', 'the', 'second', 'renaissance', 'it', 'may', 'look', 'boring', 'look', 'at', 'it', 'at', 'least', 'twice', 'and', 'definitely', 'watch', 'part', '2', 'it', 'will', 'change', 'your', 'view', 'of', 'the', 'matrix', 'are', 'the', 'human', 'people', 'the', 'ones', 'who', 'started', 'the', 'war', 'is', 'ai', 'a', 'bad', 'thing']\n"
     ]
    }
   ],
   "source": [
    "# Split text into tokens (words)\n",
    "words = text.split()\n",
    "print(words)"
   ]
  },
  {
   "cell_type": "markdown",
   "metadata": {},
   "source": [
    "### NLTK: Natural Language ToolKit"
   ]
  },
  {
   "cell_type": "code",
   "execution_count": 26,
   "metadata": {},
   "outputs": [],
   "source": [
    "import os\n",
    "import nltk\n",
    "nltk.data.path.append(os.path.join(os.getcwd(), \"nltk_data\"))"
   ]
  },
  {
   "cell_type": "code",
   "execution_count": 27,
   "metadata": {},
   "outputs": [
    {
     "name": "stdout",
     "output_type": "stream",
     "text": [
      "Dr. Smith graduated from the University of Washington. He later started an analytics firm called Lux, which catered to enterprise customers.\n"
     ]
    }
   ],
   "source": [
    "# Another sample text\n",
    "text = \"Dr. Smith graduated from the University of Washington. He later started an analytics firm called Lux, which catered to enterprise customers.\"\n",
    "print(text)"
   ]
  },
  {
   "cell_type": "code",
   "execution_count": 28,
   "metadata": {},
   "outputs": [
    {
     "name": "stdout",
     "output_type": "stream",
     "text": [
      "['Dr.', 'Smith', 'graduated', 'from', 'the', 'University', 'of', 'Washington', '.', 'He', 'later', 'started', 'an', 'analytics', 'firm', 'called', 'Lux', ',', 'which', 'catered', 'to', 'enterprise', 'customers', '.']\n"
     ]
    }
   ],
   "source": [
    "from nltk.tokenize import word_tokenize\n",
    "\n",
    "# Split text into words using NLTK\n",
    "words = word_tokenize(text)\n",
    "print(words)"
   ]
  },
  {
   "cell_type": "code",
   "execution_count": 29,
   "metadata": {},
   "outputs": [
    {
     "name": "stdout",
     "output_type": "stream",
     "text": [
      "['Dr. Smith graduated from the University of Washington.', 'He later started an analytics firm called Lux, which catered to enterprise customers.']\n"
     ]
    }
   ],
   "source": [
    "from nltk.tokenize import sent_tokenize\n",
    "\n",
    "# Split text into sentences\n",
    "sentences = sent_tokenize(text)\n",
    "print(sentences)"
   ]
  },
  {
   "cell_type": "code",
   "execution_count": 30,
   "metadata": {},
   "outputs": [
    {
     "name": "stdout",
     "output_type": "stream",
     "text": [
      "['i', 'me', 'my', 'myself', 'we', 'our', 'ours', 'ourselves', 'you', \"you're\", \"you've\", \"you'll\", \"you'd\", 'your', 'yours', 'yourself', 'yourselves', 'he', 'him', 'his', 'himself', 'she', \"she's\", 'her', 'hers', 'herself', 'it', \"it's\", 'its', 'itself', 'they', 'them', 'their', 'theirs', 'themselves', 'what', 'which', 'who', 'whom', 'this', 'that', \"that'll\", 'these', 'those', 'am', 'is', 'are', 'was', 'were', 'be', 'been', 'being', 'have', 'has', 'had', 'having', 'do', 'does', 'did', 'doing', 'a', 'an', 'the', 'and', 'but', 'if', 'or', 'because', 'as', 'until', 'while', 'of', 'at', 'by', 'for', 'with', 'about', 'against', 'between', 'into', 'through', 'during', 'before', 'after', 'above', 'below', 'to', 'from', 'up', 'down', 'in', 'out', 'on', 'off', 'over', 'under', 'again', 'further', 'then', 'once', 'here', 'there', 'when', 'where', 'why', 'how', 'all', 'any', 'both', 'each', 'few', 'more', 'most', 'other', 'some', 'such', 'no', 'nor', 'not', 'only', 'own', 'same', 'so', 'than', 'too', 'very', 's', 't', 'can', 'will', 'just', 'don', \"don't\", 'should', \"should've\", 'now', 'd', 'll', 'm', 'o', 're', 've', 'y', 'ain', 'aren', \"aren't\", 'couldn', \"couldn't\", 'didn', \"didn't\", 'doesn', \"doesn't\", 'hadn', \"hadn't\", 'hasn', \"hasn't\", 'haven', \"haven't\", 'isn', \"isn't\", 'ma', 'mightn', \"mightn't\", 'mustn', \"mustn't\", 'needn', \"needn't\", 'shan', \"shan't\", 'shouldn', \"shouldn't\", 'wasn', \"wasn't\", 'weren', \"weren't\", 'won', \"won't\", 'wouldn', \"wouldn't\"]\n"
     ]
    }
   ],
   "source": [
    "# List stop words\n",
    "from nltk.corpus import stopwords\n",
    "print(stopwords.words(\"english\"))"
   ]
  },
  {
   "cell_type": "code",
   "execution_count": 31,
   "metadata": {},
   "outputs": [
    {
     "name": "stdout",
     "output_type": "stream",
     "text": [
      "['the', 'first', 'time', 'you', 'see', 'the', 'second', 'renaissance', 'it', 'may', 'look', 'boring', 'look', 'at', 'it', 'at', 'least', 'twice', 'and', 'definitely', 'watch', 'part', '2', 'it', 'will', 'change', 'your', 'view', 'of', 'the', 'matrix', 'are', 'the', 'human', 'people', 'the', 'ones', 'who', 'started', 'the', 'war', 'is', 'ai', 'a', 'bad', 'thing']\n"
     ]
    }
   ],
   "source": [
    "# Reset text\n",
    "text = \"The first time you see The Second Renaissance it may look boring. Look at it at least twice and definitely watch part 2. It will change your view of the matrix. Are the human people the ones who started the war ? Is AI a bad thing ?\"\n",
    "\n",
    "# Normalize it\n",
    "text = re.sub(r\"[^a-zA-Z0-9]\", \" \", text.lower())\n",
    "\n",
    "# Tokenize it\n",
    "words = text.split()\n",
    "print(words)"
   ]
  },
  {
   "cell_type": "code",
   "execution_count": 36,
   "metadata": {},
   "outputs": [
    {
     "name": "stdout",
     "output_type": "stream",
     "text": [
      "['first', 'time', 'see', 'second', 'renaissance', 'may', 'look', 'boring', 'look', 'least', 'twice', 'definitely', 'watch', 'part', '2', 'change', 'view', 'matrix', 'human', 'people', 'ones', 'started', 'war', 'ai', 'bad', 'thing']\n"
     ]
    }
   ],
   "source": [
    "# Remove stop words\n",
    "words = [w for w in words if w not in stopwords.words(\"english\")]\n",
    "print(words)"
   ]
  },
  {
   "cell_type": "markdown",
   "metadata": {},
   "source": [
    "### Part-of-Speech Tagging"
   ]
  },
  {
   "cell_type": "code",
   "execution_count": 45,
   "metadata": {},
   "outputs": [
    {
     "name": "stdout",
     "output_type": "stream",
     "text": [
      "[nltk_data] Downloading package averaged_perceptron_tagger to\n",
      "[nltk_data]     /root/nltk_data...\n",
      "[nltk_data]   Unzipping taggers/averaged_perceptron_tagger.zip.\n"
     ]
    },
    {
     "data": {
      "text/plain": [
       "True"
      ]
     },
     "execution_count": 45,
     "metadata": {},
     "output_type": "execute_result"
    }
   ],
   "source": [
    "import nltk\n",
    "nltk.download('averaged_perceptron_tagger')"
   ]
  },
  {
   "cell_type": "code",
   "execution_count": 47,
   "metadata": {},
   "outputs": [
    {
     "data": {
      "text/plain": [
       "[('I', 'PRP'),\n",
       " ('always', 'RB'),\n",
       " ('lie', 'VBP'),\n",
       " ('down', 'RP'),\n",
       " ('to', 'TO'),\n",
       " ('tell', 'VB'),\n",
       " ('a', 'DT'),\n",
       " ('lie', 'NN'),\n",
       " ('.', '.')]"
      ]
     },
     "execution_count": 47,
     "metadata": {},
     "output_type": "execute_result"
    }
   ],
   "source": [
    "from nltk import pos_tag\n",
    "from nltk.tokenize import word_tokenize\n",
    "\n",
    "# Tag parts of speech (PoS)\n",
    "sentence = word_tokenize(\"I always lie down to tell a lie.\")\n",
    "pos_tag(sentence)"
   ]
  },
  {
   "cell_type": "markdown",
   "metadata": {},
   "source": [
    "### Sentence Parsing"
   ]
  },
  {
   "cell_type": "code",
   "execution_count": 37,
   "metadata": {},
   "outputs": [
    {
     "name": "stdout",
     "output_type": "stream",
     "text": [
      "(S\n",
      "  (NP I)\n",
      "  (VP\n",
      "    (VP (V shot) (NP (Det an) (N elephant)))\n",
      "    (PP (P in) (NP (Det my) (N pajamas)))))\n",
      "(S\n",
      "  (NP I)\n",
      "  (VP\n",
      "    (V shot)\n",
      "    (NP (Det an) (N elephant) (PP (P in) (NP (Det my) (N pajamas))))))\n"
     ]
    }
   ],
   "source": [
    "import nltk\n",
    "\n",
    "# Define a custom grammar\n",
    "my_grammar = nltk.CFG.fromstring(\"\"\"\n",
    "S -> NP VP\n",
    "PP -> P NP\n",
    "NP -> Det N | Det N PP | 'I'\n",
    "VP -> V NP | VP PP\n",
    "Det -> 'an' | 'my'\n",
    "N -> 'elephant' | 'pajamas'\n",
    "V -> 'shot'\n",
    "P -> 'in'\n",
    "\"\"\")\n",
    "parser = nltk.ChartParser(my_grammar)\n",
    "\n",
    "# Parse a sentence\n",
    "sentence = word_tokenize(\"I shot an elephant in my pajamas\")\n",
    "for tree in parser.parse(sentence):\n",
    "    print(tree)"
   ]
  },
  {
   "cell_type": "markdown",
   "metadata": {},
   "source": [
    "### Named Entity Recognition"
   ]
  },
  {
   "cell_type": "code",
   "execution_count": 51,
   "metadata": {},
   "outputs": [
    {
     "name": "stdout",
     "output_type": "stream",
     "text": [
      "[nltk_data] Downloading package maxent_ne_chunker to\n",
      "[nltk_data]     /root/nltk_data...\n",
      "[nltk_data]   Package maxent_ne_chunker is already up-to-date!\n",
      "[nltk_data] Downloading package words to /root/nltk_data...\n",
      "[nltk_data]   Unzipping corpora/words.zip.\n"
     ]
    },
    {
     "data": {
      "text/plain": [
       "True"
      ]
     },
     "execution_count": 51,
     "metadata": {},
     "output_type": "execute_result"
    }
   ],
   "source": [
    "import nltk\n",
    "nltk.download('maxent_ne_chunker')\n",
    "nltk.download('words')"
   ]
  },
  {
   "cell_type": "code",
   "execution_count": 52,
   "metadata": {},
   "outputs": [
    {
     "ename": "LookupError",
     "evalue": "\n\n===========================================================================\nNLTK was unable to find the gs file!\nUse software specific configuration paramaters or set the PATH environment variable.\n===========================================================================",
     "traceback": [
      "\u001b[0;31m---------------------------------------------------------------------------\u001b[0m",
      "\u001b[0;31mLookupError\u001b[0m                               Traceback (most recent call last)",
      "\u001b[0;32m/opt/conda/lib/python3.6/site-packages/IPython/core/formatters.py\u001b[0m in \u001b[0;36m__call__\u001b[0;34m(self, obj)\u001b[0m\n\u001b[1;32m    343\u001b[0m             \u001b[0mmethod\u001b[0m \u001b[0;34m=\u001b[0m \u001b[0mget_real_method\u001b[0m\u001b[0;34m(\u001b[0m\u001b[0mobj\u001b[0m\u001b[0;34m,\u001b[0m \u001b[0mself\u001b[0m\u001b[0;34m.\u001b[0m\u001b[0mprint_method\u001b[0m\u001b[0;34m)\u001b[0m\u001b[0;34m\u001b[0m\u001b[0m\n\u001b[1;32m    344\u001b[0m             \u001b[0;32mif\u001b[0m \u001b[0mmethod\u001b[0m \u001b[0;32mis\u001b[0m \u001b[0;32mnot\u001b[0m \u001b[0;32mNone\u001b[0m\u001b[0;34m:\u001b[0m\u001b[0;34m\u001b[0m\u001b[0m\n\u001b[0;32m--> 345\u001b[0;31m                 \u001b[0;32mreturn\u001b[0m \u001b[0mmethod\u001b[0m\u001b[0;34m(\u001b[0m\u001b[0;34m)\u001b[0m\u001b[0;34m\u001b[0m\u001b[0m\n\u001b[0m\u001b[1;32m    346\u001b[0m             \u001b[0;32mreturn\u001b[0m \u001b[0;32mNone\u001b[0m\u001b[0;34m\u001b[0m\u001b[0m\n\u001b[1;32m    347\u001b[0m         \u001b[0;32melse\u001b[0m\u001b[0;34m:\u001b[0m\u001b[0;34m\u001b[0m\u001b[0m\n",
      "\u001b[0;32m/opt/conda/lib/python3.6/site-packages/nltk/tree.py\u001b[0m in \u001b[0;36m_repr_png_\u001b[0;34m(self)\u001b[0m\n\u001b[1;32m    728\u001b[0m             \u001b[0m_canvas_frame\u001b[0m\u001b[0;34m.\u001b[0m\u001b[0mprint_to_file\u001b[0m\u001b[0;34m(\u001b[0m\u001b[0min_path\u001b[0m\u001b[0;34m)\u001b[0m\u001b[0;34m\u001b[0m\u001b[0m\n\u001b[1;32m    729\u001b[0m             \u001b[0m_canvas_frame\u001b[0m\u001b[0;34m.\u001b[0m\u001b[0mdestroy_widget\u001b[0m\u001b[0;34m(\u001b[0m\u001b[0mwidget\u001b[0m\u001b[0;34m)\u001b[0m\u001b[0;34m\u001b[0m\u001b[0m\n\u001b[0;32m--> 730\u001b[0;31m             subprocess.call([find_binary('gs', binary_names=['gswin32c.exe', 'gswin64c.exe'], env_vars=['PATH'], verbose=False)] +\n\u001b[0m\u001b[1;32m    731\u001b[0m                             \u001b[0;34m'-q -dEPSCrop -sDEVICE=png16m -r90 -dTextAlphaBits=4 -dGraphicsAlphaBits=4 -dSAFER -dBATCH -dNOPAUSE -sOutputFile={0:} {1:}'\u001b[0m\u001b[0;34m\u001b[0m\u001b[0m\n\u001b[1;32m    732\u001b[0m                             .format(out_path, in_path).split())\n",
      "\u001b[0;32m/opt/conda/lib/python3.6/site-packages/nltk/__init__.py\u001b[0m in \u001b[0;36mfind_binary\u001b[0;34m(name, path_to_bin, env_vars, searchpath, binary_names, url, verbose)\u001b[0m\n\u001b[1;32m    602\u001b[0m                 binary_names=None, url=None, verbose=False):\n\u001b[1;32m    603\u001b[0m     return next(find_binary_iter(name, path_to_bin, env_vars, searchpath,\n\u001b[0;32m--> 604\u001b[0;31m                                  binary_names, url, verbose))\n\u001b[0m\u001b[1;32m    605\u001b[0m \u001b[0;34m\u001b[0m\u001b[0m\n\u001b[1;32m    606\u001b[0m def find_jar_iter(name_pattern, path_to_jar=None, env_vars=(),\n",
      "\u001b[0;32m/opt/conda/lib/python3.6/site-packages/nltk/__init__.py\u001b[0m in \u001b[0;36mfind_binary_iter\u001b[0;34m(name, path_to_bin, env_vars, searchpath, binary_names, url, verbose)\u001b[0m\n\u001b[1;32m    596\u001b[0m     \"\"\"\n\u001b[1;32m    597\u001b[0m     for file in  find_file_iter(path_to_bin or name, env_vars, searchpath, binary_names,\n\u001b[0;32m--> 598\u001b[0;31m                      url, verbose):\n\u001b[0m\u001b[1;32m    599\u001b[0m         \u001b[0;32myield\u001b[0m \u001b[0mfile\u001b[0m\u001b[0;34m\u001b[0m\u001b[0m\n\u001b[1;32m    600\u001b[0m \u001b[0;34m\u001b[0m\u001b[0m\n",
      "\u001b[0;32m/opt/conda/lib/python3.6/site-packages/nltk/__init__.py\u001b[0m in \u001b[0;36mfind_file_iter\u001b[0;34m(filename, env_vars, searchpath, file_names, url, verbose, finding_dir)\u001b[0m\n\u001b[1;32m    567\u001b[0m                         (filename, url))\n\u001b[1;32m    568\u001b[0m         \u001b[0mdiv\u001b[0m \u001b[0;34m=\u001b[0m \u001b[0;34m'='\u001b[0m\u001b[0;34m*\u001b[0m\u001b[0;36m75\u001b[0m\u001b[0;34m\u001b[0m\u001b[0m\n\u001b[0;32m--> 569\u001b[0;31m         \u001b[0;32mraise\u001b[0m \u001b[0mLookupError\u001b[0m\u001b[0;34m(\u001b[0m\u001b[0;34m'\\n\\n%s\\n%s\\n%s'\u001b[0m \u001b[0;34m%\u001b[0m \u001b[0;34m(\u001b[0m\u001b[0mdiv\u001b[0m\u001b[0;34m,\u001b[0m \u001b[0mmsg\u001b[0m\u001b[0;34m,\u001b[0m \u001b[0mdiv\u001b[0m\u001b[0;34m)\u001b[0m\u001b[0;34m)\u001b[0m\u001b[0;34m\u001b[0m\u001b[0m\n\u001b[0m\u001b[1;32m    570\u001b[0m \u001b[0;34m\u001b[0m\u001b[0m\n\u001b[1;32m    571\u001b[0m \u001b[0;34m\u001b[0m\u001b[0m\n",
      "\u001b[0;31mLookupError\u001b[0m: \n\n===========================================================================\nNLTK was unable to find the gs file!\nUse software specific configuration paramaters or set the PATH environment variable.\n==========================================================================="
     ],
     "output_type": "error"
    },
    {
     "data": {
      "text/plain": [
       "Tree('S', [Tree('PERSON', [('Antonio', 'NNP')]), ('joined', 'VBD'), Tree('ORGANIZATION', [('Udacity', 'NNP'), ('Inc.', 'NNP')]), ('in', 'IN'), Tree('GPE', [('California', 'NNP')]), ('.', '.')])"
      ]
     },
     "execution_count": 52,
     "metadata": {},
     "output_type": "execute_result"
    }
   ],
   "source": [
    "from nltk import pos_tag, ne_chunk\n",
    "from nltk.tokenize import word_tokenize\n",
    "\n",
    "# Recognize named entities in a tagged sentence\n",
    "ne_chunk(pos_tag(word_tokenize(\"Antonio joined Udacity Inc. in California.\")))"
   ]
  },
  {
   "cell_type": "markdown",
   "metadata": {},
   "source": [
    "## Stemming & Lemmatization\n",
    "\n",
    "### Stemming"
   ]
  },
  {
   "cell_type": "code",
   "execution_count": 38,
   "metadata": {},
   "outputs": [
    {
     "name": "stdout",
     "output_type": "stream",
     "text": [
      "['first', 'time', 'see', 'second', 'renaiss', 'may', 'look', 'bore', 'look', 'least', 'twice', 'definit', 'watch', 'part', '2', 'chang', 'view', 'matrix', 'human', 'peopl', 'one', 'start', 'war', 'ai', 'bad', 'thing']\n"
     ]
    }
   ],
   "source": [
    "from nltk.stem.porter import PorterStemmer\n",
    "\n",
    "# Reduce words to their stems\n",
    "stemmed = [PorterStemmer().stem(w) for w in words]\n",
    "print(stemmed)"
   ]
  },
  {
   "cell_type": "markdown",
   "metadata": {},
   "source": [
    "### Lemmatization"
   ]
  },
  {
   "cell_type": "code",
   "execution_count": 39,
   "metadata": {},
   "outputs": [
    {
     "name": "stdout",
     "output_type": "stream",
     "text": [
      "['first', 'time', 'see', 'second', 'renaissance', 'may', 'look', 'boring', 'look', 'least', 'twice', 'definitely', 'watch', 'part', '2', 'change', 'view', 'matrix', 'human', 'people', 'one', 'started', 'war', 'ai', 'bad', 'thing']\n"
     ]
    }
   ],
   "source": [
    "from nltk.stem.wordnet import WordNetLemmatizer\n",
    "\n",
    "# Reduce words to their root form\n",
    "lemmed = [WordNetLemmatizer().lemmatize(w) for w in words]\n",
    "print(lemmed)"
   ]
  },
  {
   "cell_type": "code",
   "execution_count": 40,
   "metadata": {},
   "outputs": [
    {
     "name": "stdout",
     "output_type": "stream",
     "text": [
      "['first', 'time', 'see', 'second', 'renaissance', 'may', 'look', 'bore', 'look', 'least', 'twice', 'definitely', 'watch', 'part', '2', 'change', 'view', 'matrix', 'human', 'people', 'one', 'start', 'war', 'ai', 'bad', 'thing']\n"
     ]
    }
   ],
   "source": [
    "# Lemmatize verbs by specifying pos\n",
    "lemmed = [WordNetLemmatizer().lemmatize(w, pos='v') for w in lemmed]\n",
    "print(lemmed)"
   ]
  },
  {
   "cell_type": "code",
   "execution_count": null,
   "metadata": {},
   "outputs": [],
   "source": []
  }
 ],
 "metadata": {
  "kernelspec": {
   "display_name": "Python 3",
   "language": "python",
   "name": "python3"
  },
  "language_info": {
   "codemirror_mode": {
    "name": "ipython",
    "version": 3
   },
   "file_extension": ".py",
   "mimetype": "text/x-python",
   "name": "python",
   "nbconvert_exporter": "python",
   "pygments_lexer": "ipython3",
   "version": "3.6.3"
  }
 },
 "nbformat": 4,
 "nbformat_minor": 2
}
